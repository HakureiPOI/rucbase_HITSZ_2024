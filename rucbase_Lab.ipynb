{
  "nbformat": 4,
  "nbformat_minor": 0,
  "metadata": {
    "colab": {
      "provenance": [],
      "authorship_tag": "ABX9TyM4lL42OX6wm1sg0YoVYnC9",
      "include_colab_link": true
    },
    "kernelspec": {
      "name": "python3",
      "display_name": "Python 3"
    },
    "language_info": {
      "name": "python"
    }
  },
  "cells": [
    {
      "cell_type": "markdown",
      "metadata": {
        "id": "view-in-github",
        "colab_type": "text"
      },
      "source": [
        "<a href=\"https://colab.research.google.com/github/HakureiPOI/rucbase_HITSZ_2024/blob/main/rucbase_Lab.ipynb\" target=\"_parent\"><img src=\"https://colab.research.google.com/assets/colab-badge.svg\" alt=\"Open In Colab\"/></a>"
      ]
    },
    {
      "cell_type": "markdown",
      "source": [
        "# HakureiPOI"
      ],
      "metadata": {
        "id": "uinToqhhbfJH"
      }
    },
    {
      "cell_type": "markdown",
      "source": [
        "---\n",
        "\n",
        "### 从 github 拉取已经配置好的实验环境"
      ],
      "metadata": {
        "id": "ImUmKPN4bZia"
      }
    },
    {
      "cell_type": "code",
      "execution_count": 1,
      "metadata": {
        "colab": {
          "base_uri": "https://localhost:8080/"
        },
        "id": "xmRwtjO5bU5C",
        "outputId": "982a33b0-5bba-4378-80d5-a2fbe8c48b45"
      },
      "outputs": [
        {
          "output_type": "stream",
          "name": "stdout",
          "text": [
            "Cloning into 'rucbase_HITSZ_2024'...\n",
            "remote: Enumerating objects: 1135, done.\u001b[K\n",
            "remote: Counting objects: 100% (1135/1135), done.\u001b[K\n",
            "remote: Compressing objects: 100% (652/652), done.\u001b[K\n",
            "remote: Total 1135 (delta 441), reused 1069 (delta 418), pack-reused 0 (from 0)\u001b[K\n",
            "Receiving objects: 100% (1135/1135), 17.01 MiB | 9.56 MiB/s, done.\n",
            "Resolving deltas: 100% (441/441), done.\n",
            "Updating files: 100% (1016/1016), done.\n"
          ]
        }
      ],
      "source": [
        "!git clone https://github.com/HakureiPOI/rucbase_HITSZ_2024.git"
      ]
    },
    {
      "cell_type": "code",
      "source": [
        "!cp -r /content/rucbase_HITSZ_2024/rucbase-lab /content/rucbase-lab"
      ],
      "metadata": {
        "id": "TRx6Ia3zbqob"
      },
      "execution_count": 2,
      "outputs": []
    },
    {
      "cell_type": "code",
      "source": [
        "%cd /content/rucbase-lab/build"
      ],
      "metadata": {
        "colab": {
          "base_uri": "https://localhost:8080/"
        },
        "id": "_kH0ry0Lbzum",
        "outputId": "adeb1a6a-6f4b-4a6c-dfea-2e927dc54cee"
      },
      "execution_count": 3,
      "outputs": [
        {
          "output_type": "stream",
          "name": "stdout",
          "text": [
            "/content/rucbase-lab/build\n"
          ]
        }
      ]
    },
    {
      "cell_type": "code",
      "source": [
        "!nohup ./bin/rmdb test_db &"
      ],
      "metadata": {
        "colab": {
          "base_uri": "https://localhost:8080/"
        },
        "id": "b3lS7q0AgrIC",
        "outputId": "ead1888e-bf0c-46d4-fd97-76b141c8438d"
      },
      "execution_count": 4,
      "outputs": [
        {
          "output_type": "stream",
          "name": "stdout",
          "text": [
            "nohup: appending output to 'nohup.out'\n"
          ]
        }
      ]
    },
    {
      "cell_type": "code",
      "source": [
        "!cat /content/rucbase-lab/build/nohup.out"
      ],
      "metadata": {
        "id": "kNOmKLOkgsSr"
      },
      "execution_count": 5,
      "outputs": []
    },
    {
      "cell_type": "code",
      "source": [
        "%cd /content/rucbase-lab/rucbase_client/build"
      ],
      "metadata": {
        "colab": {
          "base_uri": "https://localhost:8080/"
        },
        "id": "ip0ZIG8Pgt3E",
        "outputId": "f2dadd12-f6a5-45e8-e0e0-ab203a4cc766"
      },
      "execution_count": 6,
      "outputs": [
        {
          "output_type": "stream",
          "name": "stdout",
          "text": [
            "/content/rucbase-lab/rucbase_client/build\n"
          ]
        }
      ]
    },
    {
      "cell_type": "code",
      "source": [
        "# ! ./rucbase_client"
      ],
      "metadata": {
        "id": "6xYwy__UgwkH"
      },
      "execution_count": 7,
      "outputs": []
    },
    {
      "cell_type": "code",
      "source": [
        "%cd /content/rucbase-lab/build"
      ],
      "metadata": {
        "colab": {
          "base_uri": "https://localhost:8080/"
        },
        "id": "tPaWDyXpgzRz",
        "outputId": "d979da50-7f40-4eb9-e472-d679fad5b7bf"
      },
      "execution_count": 8,
      "outputs": [
        {
          "output_type": "stream",
          "name": "stdout",
          "text": [
            "/content/rucbase-lab/build\n"
          ]
        }
      ]
    },
    {
      "cell_type": "code",
      "source": [
        "!ls"
      ],
      "metadata": {
        "colab": {
          "base_uri": "https://localhost:8080/"
        },
        "id": "ny5iT5KBg3Il",
        "outputId": "af7e7b32-6548-440e-a0c8-27c7cf1849e0"
      },
      "execution_count": 9,
      "outputs": [
        {
          "output_type": "stream",
          "name": "stdout",
          "text": [
            "bin\t\tCMakeFiles\t     CTestTestfile.cmake  lib\t    nohup.out\n",
            "CMakeCache.txt\tcmake_install.cmake  deps\t\t  Makefile  src\n"
          ]
        }
      ]
    },
    {
      "cell_type": "code",
      "source": [
        "!apt-get update >/dev/null 2>&1\n",
        "!apt-get install -y bison >/dev/null 2>&1\n",
        "!apt-get install flex >/dev/null 2>&1"
      ],
      "metadata": {
        "id": "G3XM_QR9hDpV"
      },
      "execution_count": 10,
      "outputs": []
    },
    {
      "cell_type": "markdown",
      "source": [
        "---\n",
        "### disk_managger.cpp"
      ],
      "metadata": {
        "id": "KCDrjommBWlU"
      }
    },
    {
      "cell_type": "code",
      "source": [
        "!cp /content/rucbase_HITSZ_2024/Lab1/disk_manager.cpp /content/rucbase-lab/src/storage/disk_manager.cpp"
      ],
      "metadata": {
        "id": "c4tMrr1rE-pf"
      },
      "execution_count": 11,
      "outputs": []
    },
    {
      "cell_type": "code",
      "source": [
        "!make disk_manager_test"
      ],
      "metadata": {
        "colab": {
          "base_uri": "https://localhost:8080/"
        },
        "id": "C5xTui27g4Hj",
        "outputId": "7675c03e-85f9-4594-ff82-55385abcf0e6"
      },
      "execution_count": 12,
      "outputs": [
        {
          "output_type": "stream",
          "name": "stdout",
          "text": [
            "-- Configuring done (0.5s)\n",
            "-- Generating done (0.2s)\n",
            "-- Build files have been written to: /content/rucbase-lab/build\n",
            "[ 10%] \u001b[32mBuilding CXX object deps/googletest/googletest/CMakeFiles/gtest.dir/src/gtest-all.cc.o\u001b[0m\n",
            "[ 20%] \u001b[32m\u001b[1mLinking CXX static library ../../../lib/libgtest.a\u001b[0m\n",
            "[ 20%] Built target gtest\n",
            "[ 30%] \u001b[32mBuilding CXX object deps/googletest/googletest/CMakeFiles/gtest_main.dir/src/gtest_main.cc.o\u001b[0m\n",
            "[ 40%] \u001b[32m\u001b[1mLinking CXX static library ../../../lib/libgtest_main.a\u001b[0m\n",
            "[ 40%] Built target gtest_main\n",
            "[ 50%] \u001b[32mBuilding CXX object src/storage/CMakeFiles/storage.dir/disk_manager.cpp.o\u001b[0m\n",
            "\u001b[01m\u001b[K/content/rucbase-lab/src/storage/disk_manager.cpp:\u001b[m\u001b[K In constructor ‘\u001b[01m\u001b[KDiskManager::DiskManager()\u001b[m\u001b[K’:\n",
            "\u001b[01m\u001b[K/content/rucbase-lab/src/storage/disk_manager.cpp:23:36:\u001b[m\u001b[K \u001b[01;35m\u001b[Kwarning: \u001b[m\u001b[K‘\u001b[01m\u001b[Kvoid* memset(void*, int, size_t)\u001b[m\u001b[K’ clearing an object of type ‘\u001b[01m\u001b[Kstruct std::atomic<int>\u001b[m\u001b[K’ with no trivial copy-assignment; use value-initialization instead [\u001b[01;35m\u001b[K\u001b]8;;https://gcc.gnu.org/onlinedocs/gcc/Warning-Options.html#index-Wclass-memaccess\u0007-Wclass-memaccess\u001b]8;;\u0007\u001b[m\u001b[K]\n",
            "   23 | DiskManager::DiskManager() { \u001b[01;35m\u001b[Kmemset(fd2pageno_, 0, MAX_FD * (sizeof(std::atomic<page_id_t>) / sizeof(char)))\u001b[m\u001b[K; }\n",
            "      |                              \u001b[01;35m\u001b[K~~~~~~^~~~~~~~~~~~~~~~~~~~~~~~~~~~~~~~~~~~~~~~~~~~~~~~~~~~~~~~~~~~~~~~~~~~~~~~~\u001b[m\u001b[K\n",
            "In file included from \u001b[01m\u001b[K/content/rucbase-lab/src/storage/disk_manager.h:17\u001b[m\u001b[K,\n",
            "                 from \u001b[01m\u001b[K/content/rucbase-lab/src/storage/disk_manager.cpp:11\u001b[m\u001b[K:\n",
            "\u001b[01m\u001b[K/usr/include/c++/11/atomic:822:12:\u001b[m\u001b[K \u001b[01;36m\u001b[Knote: \u001b[m\u001b[K‘\u001b[01m\u001b[Kstruct std::atomic<int>\u001b[m\u001b[K’ declared here\n",
            "  822 |     struct \u001b[01;36m\u001b[Katomic<int>\u001b[m\u001b[K : __atomic_base<int>\n",
            "      |            \u001b[01;36m\u001b[K^~~~~~~~~~~\u001b[m\u001b[K\n",
            "[ 60%] \u001b[32mBuilding CXX object src/storage/CMakeFiles/storage.dir/buffer_pool_manager.cpp.o\u001b[0m\n",
            "[ 70%] \u001b[32mBuilding CXX object src/storage/CMakeFiles/storage.dir/__/replacer/lru_replacer.cpp.o\u001b[0m\n",
            "[ 80%] \u001b[32m\u001b[1mLinking CXX static library ../../lib/libstorage.a\u001b[0m\n",
            "[ 80%] Built target storage\n",
            "[ 90%] \u001b[32mBuilding CXX object src/test/CMakeFiles/disk_manager_test.dir/storage/disk_manager_test.cpp.o\u001b[0m\n",
            "[100%] \u001b[32m\u001b[1mLinking CXX executable ../../bin/disk_manager_test\u001b[0m\n",
            "[100%] Built target disk_manager_test\n"
          ]
        }
      ]
    },
    {
      "cell_type": "code",
      "source": [
        "! ./bin/disk_manager_test"
      ],
      "metadata": {
        "colab": {
          "base_uri": "https://localhost:8080/"
        },
        "id": "XkzQHdqMg5MQ",
        "outputId": "e90dcadc-f8f0-4466-8725-b67ae58ace7b"
      },
      "execution_count": 13,
      "outputs": [
        {
          "output_type": "stream",
          "name": "stdout",
          "text": [
            "Running main() from /content/rucbase-lab/deps/googletest/googletest/src/gtest_main.cc\n",
            "\u001b[0;32m[==========] \u001b[mRunning 2 tests from 1 test suite.\n",
            "\u001b[0;32m[----------] \u001b[mGlobal test environment set-up.\n",
            "\u001b[0;32m[----------] \u001b[m2 tests from DiskManagerTest\n",
            "\u001b[0;32m[ RUN      ] \u001b[mDiskManagerTest.FileOperation\n",
            "\u001b[0;32m[       OK ] \u001b[mDiskManagerTest.FileOperation (6 ms)\n",
            "\u001b[0;32m[ RUN      ] \u001b[mDiskManagerTest.PageOperation\n",
            "\u001b[0;32m[       OK ] \u001b[mDiskManagerTest.PageOperation (12 ms)\n",
            "\u001b[0;32m[----------] \u001b[m2 tests from DiskManagerTest (19 ms total)\n",
            "\n",
            "\u001b[0;32m[----------] \u001b[mGlobal test environment tear-down\n",
            "\u001b[0;32m[==========] \u001b[m2 tests from 1 test suite ran. (19 ms total)\n",
            "\u001b[0;32m[  PASSED  ] \u001b[m2 tests.\n"
          ]
        }
      ]
    },
    {
      "cell_type": "markdown",
      "source": [
        "---\n",
        "### lru_replacer"
      ],
      "metadata": {
        "id": "JTb283x_ILSn"
      }
    },
    {
      "cell_type": "code",
      "source": [
        "!cp /content/rucbase_HITSZ_2024/Lab1/lru_replacer.cpp /content/rucbase-lab/src/replacer/lru_replacer.cpp"
      ],
      "metadata": {
        "id": "iazb8KDWhQqZ"
      },
      "execution_count": 14,
      "outputs": []
    },
    {
      "cell_type": "code",
      "source": [
        "!make lru_replacer_test"
      ],
      "metadata": {
        "colab": {
          "base_uri": "https://localhost:8080/"
        },
        "id": "YTN3VjEZIZet",
        "outputId": "adbe9fa7-cc30-4573-a78f-aab70319ae0c"
      },
      "execution_count": 15,
      "outputs": [
        {
          "output_type": "stream",
          "name": "stdout",
          "text": [
            "[ 25%] Built target gtest\n",
            "[ 50%] Built target gtest_main\n",
            "[ 62%] \u001b[32mBuilding CXX object src/replacer/CMakeFiles/lru_replacer.dir/lru_replacer.cpp.o\u001b[0m\n",
            "[ 75%] \u001b[32m\u001b[1mLinking CXX static library ../../lib/liblru_replacer.a\u001b[0m\n",
            "[ 75%] Built target lru_replacer\n",
            "[ 87%] \u001b[32mBuilding CXX object src/test/CMakeFiles/lru_replacer_test.dir/storage/lru_replacer_test.cpp.o\u001b[0m\n",
            "[100%] \u001b[32m\u001b[1mLinking CXX executable ../../bin/lru_replacer_test\u001b[0m\n",
            "[100%] Built target lru_replacer_test\n"
          ]
        }
      ]
    },
    {
      "cell_type": "code",
      "source": [
        "! ./bin/lru_replacer_test"
      ],
      "metadata": {
        "colab": {
          "base_uri": "https://localhost:8080/"
        },
        "id": "AjGkUKOXIgux",
        "outputId": "ad420247-5172-4b58-c481-297c8d5ec29a"
      },
      "execution_count": 16,
      "outputs": [
        {
          "output_type": "stream",
          "name": "stdout",
          "text": [
            "Running main() from /content/rucbase-lab/deps/googletest/googletest/src/gtest_main.cc\n",
            "\u001b[0;32m[==========] \u001b[mRunning 3 tests from 1 test suite.\n",
            "\u001b[0;32m[----------] \u001b[mGlobal test environment set-up.\n",
            "\u001b[0;32m[----------] \u001b[m3 tests from LRUReplacerTest\n",
            "\u001b[0;32m[ RUN      ] \u001b[mLRUReplacerTest.SimpleTest\n",
            "\u001b[0;32m[       OK ] \u001b[mLRUReplacerTest.SimpleTest (0 ms)\n",
            "\u001b[0;32m[ RUN      ] \u001b[mLRUReplacerTest.MixTest\n",
            "\u001b[0;32m[       OK ] \u001b[mLRUReplacerTest.MixTest (3237 ms)\n",
            "\u001b[0;32m[ RUN      ] \u001b[mLRUReplacerTest.ConcurrencyTest\n",
            "\u001b[0;32m[       OK ] \u001b[mLRUReplacerTest.ConcurrencyTest (503 ms)\n",
            "\u001b[0;32m[----------] \u001b[m3 tests from LRUReplacerTest (3741 ms total)\n",
            "\n",
            "\u001b[0;32m[----------] \u001b[mGlobal test environment tear-down\n",
            "\u001b[0;32m[==========] \u001b[m3 tests from 1 test suite ran. (3741 ms total)\n",
            "\u001b[0;32m[  PASSED  ] \u001b[m3 tests.\n"
          ]
        }
      ]
    },
    {
      "cell_type": "markdown",
      "source": [
        "---\n",
        "### buffer_pool_manager"
      ],
      "metadata": {
        "id": "-gAWYNfyIllR"
      }
    },
    {
      "cell_type": "code",
      "source": [
        "!cp /content/rucbase_HITSZ_2024/Lab1/buffer_pool_manager.cpp /content/rucbase-lab/src/storage/buffer_pool_manager.cpp"
      ],
      "metadata": {
        "id": "M6EcQmqRItwm"
      },
      "execution_count": 17,
      "outputs": []
    },
    {
      "cell_type": "code",
      "source": [
        "!make buffer_pool_manager_test"
      ],
      "metadata": {
        "colab": {
          "base_uri": "https://localhost:8080/"
        },
        "id": "jGgUQf0KIwVU",
        "outputId": "29e7efbb-082b-45f1-b0d3-af52d2012d59"
      },
      "execution_count": 18,
      "outputs": [
        {
          "output_type": "stream",
          "name": "stdout",
          "text": [
            "[ 20%] Built target gtest\n",
            "[ 40%] Built target gtest_main\n",
            "[ 50%] \u001b[32mBuilding CXX object src/storage/CMakeFiles/storage.dir/buffer_pool_manager.cpp.o\u001b[0m\n",
            "[ 60%] \u001b[32mBuilding CXX object src/storage/CMakeFiles/storage.dir/__/replacer/lru_replacer.cpp.o\u001b[0m\n",
            "[ 70%] \u001b[32m\u001b[1mLinking CXX static library ../../lib/libstorage.a\u001b[0m\n",
            "[ 80%] Built target storage\n",
            "[ 90%] \u001b[32mBuilding CXX object src/test/CMakeFiles/buffer_pool_manager_test.dir/storage/buffer_pool_manager_test.cpp.o\u001b[0m\n",
            "[100%] \u001b[32m\u001b[1mLinking CXX executable ../../bin/buffer_pool_manager_test\u001b[0m\n",
            "[100%] Built target buffer_pool_manager_test\n"
          ]
        }
      ]
    },
    {
      "cell_type": "code",
      "source": [
        "! ./bin/buffer_pool_manager_test"
      ],
      "metadata": {
        "colab": {
          "base_uri": "https://localhost:8080/"
        },
        "id": "_noLq58VIzOK",
        "outputId": "07cd9bde-033d-40e6-9362-d3e8f9eee522"
      },
      "execution_count": 19,
      "outputs": [
        {
          "output_type": "stream",
          "name": "stdout",
          "text": [
            "Running main() from /content/rucbase-lab/deps/googletest/googletest/src/gtest_main.cc\n",
            "\u001b[0;32m[==========] \u001b[mRunning 4 tests from 1 test suite.\n",
            "\u001b[0;32m[----------] \u001b[mGlobal test environment set-up.\n",
            "\u001b[0;32m[----------] \u001b[m4 tests from BufferPoolManagerTest\n",
            "\u001b[0;32m[ RUN      ] \u001b[mBufferPoolManagerTest.SimpleTest\n",
            "\u001b[0;32m[       OK ] \u001b[mBufferPoolManagerTest.SimpleTest (3 ms)\n",
            "\u001b[0;32m[ RUN      ] \u001b[mBufferPoolManagerTest.LargeScaleTest\n",
            "\u001b[0;32m[       OK ] \u001b[mBufferPoolManagerTest.LargeScaleTest (136 ms)\n",
            "\u001b[0;32m[ RUN      ] \u001b[mBufferPoolManagerTest.MultipleFilesTest\n",
            "\u001b[0;32m[       OK ] \u001b[mBufferPoolManagerTest.MultipleFilesTest (2570 ms)\n",
            "\u001b[0;32m[ RUN      ] \u001b[mBufferPoolManagerTest.ConcurrencyTest\n",
            "\u001b[0;32m[       OK ] \u001b[mBufferPoolManagerTest.ConcurrencyTest (1792 ms)\n",
            "\u001b[0;32m[----------] \u001b[m4 tests from BufferPoolManagerTest (4503 ms total)\n",
            "\n",
            "\u001b[0;32m[----------] \u001b[mGlobal test environment tear-down\n",
            "\u001b[0;32m[==========] \u001b[m4 tests from 1 test suite ran. (4503 ms total)\n",
            "\u001b[0;32m[  PASSED  ] \u001b[m4 tests.\n"
          ]
        }
      ]
    },
    {
      "cell_type": "markdown",
      "source": [
        "---\n",
        "### record_manager"
      ],
      "metadata": {
        "id": "hMlvu1ROI8BQ"
      }
    },
    {
      "cell_type": "code",
      "source": [
        "!cp /content/rucbase_HITSZ_2024/Lab1/rm_file_handle.cpp /content/rucbase-lab/src/record/rm_file_handle.cpp"
      ],
      "metadata": {
        "id": "KhsUzY3II_Nr"
      },
      "execution_count": 20,
      "outputs": []
    },
    {
      "cell_type": "code",
      "source": [
        "!cp /content/rucbase_HITSZ_2024/Lab1/rm_scan.cpp /content/rucbase-lab/src/record/rm_scan.cpp"
      ],
      "metadata": {
        "id": "FFVwC1NEJK5S"
      },
      "execution_count": 21,
      "outputs": []
    },
    {
      "cell_type": "code",
      "source": [
        "!make record_manager_test"
      ],
      "metadata": {
        "colab": {
          "base_uri": "https://localhost:8080/"
        },
        "id": "Gwl7th4xJP0v",
        "outputId": "910972dc-9954-4c04-95ea-fbb88af1d273"
      },
      "execution_count": 22,
      "outputs": [
        {
          "output_type": "stream",
          "name": "stdout",
          "text": [
            "[  8%] Built target gtest\n",
            "[ 16%] Built target gtest_main\n",
            "[ 33%] Built target storage\n",
            "[ 37%] \u001b[32mBuilding CXX object src/index/CMakeFiles/index.dir/ix_index_handle.cpp.o\u001b[0m\n",
            "[ 41%] \u001b[32mBuilding CXX object src/index/CMakeFiles/index.dir/ix_scan.cpp.o\u001b[0m\n",
            "[ 45%] \u001b[32m\u001b[1mLinking CXX static library ../../lib/libindex.a\u001b[0m\n",
            "[ 45%] Built target index\n",
            "[ 50%] \u001b[32mBuilding CXX object src/recovery/CMakeFiles/recovery.dir/log_manager.cpp.o\u001b[0m\n",
            "\u001b[01m\u001b[K/content/rucbase-lab/src/recovery/log_manager.cpp:\u001b[m\u001b[K In member function ‘\u001b[01m\u001b[Klsn_t LogManager::add_log_to_buffer(LogRecord*)\u001b[m\u001b[K’:\n",
            "\u001b[01m\u001b[K/content/rucbase-lab/src/recovery/log_manager.cpp:21:1:\u001b[m\u001b[K \u001b[01;35m\u001b[Kwarning: \u001b[m\u001b[Kno return statement in function returning non-void [\u001b[01;35m\u001b[K\u001b]8;;https://gcc.gnu.org/onlinedocs/gcc/Warning-Options.html#index-Wreturn-type\u0007-Wreturn-type\u001b]8;;\u0007\u001b[m\u001b[K]\n",
            "   21 | \u001b[01;35m\u001b[K}\u001b[m\u001b[K\n",
            "      | \u001b[01;35m\u001b[K^\u001b[m\u001b[K\n",
            "[ 54%] \u001b[32mBuilding CXX object src/recovery/CMakeFiles/recovery.dir/log_recovery.cpp.o\u001b[0m\n",
            "In file included from \u001b[01m\u001b[K/content/rucbase-lab/src/index/ix_manager.h:16\u001b[m\u001b[K,\n",
            "                 from \u001b[01m\u001b[K/content/rucbase-lab/src/index/ix.h:14\u001b[m\u001b[K,\n",
            "                 from \u001b[01m\u001b[K/content/rucbase-lab/src/system/sm_manager.h:13\u001b[m\u001b[K,\n",
            "                 from \u001b[01m\u001b[K/content/rucbase-lab/src/recovery/log_recovery.h:17\u001b[m\u001b[K,\n",
            "                 from \u001b[01m\u001b[K/content/rucbase-lab/src/recovery/log_recovery.cpp:11\u001b[m\u001b[K:\n",
            "\u001b[01m\u001b[K/content/rucbase-lab/src/system/sm_meta.h:\u001b[m\u001b[K In member function ‘\u001b[01m\u001b[Kbool TabMeta::is_index(const std::vector<std::__cxx11::basic_string<char> >&) const\u001b[m\u001b[K’:\n",
            "\u001b[01m\u001b[K/content/rucbase-lab/src/system/sm_meta.h:90:30:\u001b[m\u001b[K \u001b[01;35m\u001b[Kwarning: \u001b[m\u001b[Kcomparison of integer expressions of different signedness: ‘\u001b[01m\u001b[Kconst int\u001b[m\u001b[K’ and ‘\u001b[01m\u001b[Kstd::vector<std::__cxx11::basic_string<char> >::size_type\u001b[m\u001b[K’ {aka ‘\u001b[01m\u001b[Klong unsigned int\u001b[m\u001b[K’} [\u001b[01;35m\u001b[K\u001b]8;;https://gcc.gnu.org/onlinedocs/gcc/Warning-Options.html#index-Wsign-compare\u0007-Wsign-compare\u001b]8;;\u0007\u001b[m\u001b[K]\n",
            "   90 |             if(\u001b[01;35m\u001b[Kindex.col_num == col_names.size()\u001b[m\u001b[K) {\n",
            "      |                \u001b[01;35m\u001b[K~~~~~~~~~~~~~~^~~~~~~~~~~~~~~~~~~\u001b[m\u001b[K\n",
            "\u001b[01m\u001b[K/content/rucbase-lab/src/system/sm_meta.h:92:25:\u001b[m\u001b[K \u001b[01;35m\u001b[Kwarning: \u001b[m\u001b[Kcomparison of integer expressions of different signedness: ‘\u001b[01m\u001b[Ksize_t\u001b[m\u001b[K’ {aka ‘\u001b[01m\u001b[Klong unsigned int\u001b[m\u001b[K’} and ‘\u001b[01m\u001b[Kconst int\u001b[m\u001b[K’ [\u001b[01;35m\u001b[K\u001b]8;;https://gcc.gnu.org/onlinedocs/gcc/Warning-Options.html#index-Wsign-compare\u0007-Wsign-compare\u001b]8;;\u0007\u001b[m\u001b[K]\n",
            "   92 |                 for(; \u001b[01;35m\u001b[Ki < index.col_num\u001b[m\u001b[K; ++i) {\n",
            "      |                       \u001b[01;35m\u001b[K~~^~~~~~~~~~~~~~~\u001b[m\u001b[K\n",
            "\u001b[01m\u001b[K/content/rucbase-lab/src/system/sm_meta.h:96:22:\u001b[m\u001b[K \u001b[01;35m\u001b[Kwarning: \u001b[m\u001b[Kcomparison of integer expressions of different signedness: ‘\u001b[01m\u001b[Ksize_t\u001b[m\u001b[K’ {aka ‘\u001b[01m\u001b[Klong unsigned int\u001b[m\u001b[K’} and ‘\u001b[01m\u001b[Kconst int\u001b[m\u001b[K’ [\u001b[01;35m\u001b[K\u001b]8;;https://gcc.gnu.org/onlinedocs/gcc/Warning-Options.html#index-Wsign-compare\u0007-Wsign-compare\u001b]8;;\u0007\u001b[m\u001b[K]\n",
            "   96 |                 if(\u001b[01;35m\u001b[Ki == index.col_num\u001b[m\u001b[K) return true;\n",
            "      |                    \u001b[01;35m\u001b[K~~^~~~~~~~~~~~~~~~\u001b[m\u001b[K\n",
            "\u001b[01m\u001b[K/content/rucbase-lab/src/system/sm_meta.h:\u001b[m\u001b[K In member function ‘\u001b[01m\u001b[Kstd::vector<IndexMeta>::iterator TabMeta::get_index_meta(const std::vector<std::__cxx11::basic_string<char> >&)\u001b[m\u001b[K’:\n",
            "\u001b[01m\u001b[K/content/rucbase-lab/src/system/sm_meta.h:106:33:\u001b[m\u001b[K \u001b[01;35m\u001b[Kwarning: \u001b[m\u001b[Kcomparison of integer expressions of different signedness: ‘\u001b[01m\u001b[Kint\u001b[m\u001b[K’ and ‘\u001b[01m\u001b[Kstd::vector<std::__cxx11::basic_string<char> >::size_type\u001b[m\u001b[K’ {aka ‘\u001b[01m\u001b[Klong unsigned int\u001b[m\u001b[K’} [\u001b[01;35m\u001b[K\u001b]8;;https://gcc.gnu.org/onlinedocs/gcc/Warning-Options.html#index-Wsign-compare\u0007-Wsign-compare\u001b]8;;\u0007\u001b[m\u001b[K]\n",
            "  106 |             if(\u001b[01;35m\u001b[K(*index).col_num != col_names.size()\u001b[m\u001b[K) continue;\n",
            "      |                \u001b[01;35m\u001b[K~~~~~~~~~~~~~~~~~^~~~~~~~~~~~~~~~~~~\u001b[m\u001b[K\n",
            "[ 58%] \u001b[32m\u001b[1mLinking CXX static library ../../lib/librecovery.a\u001b[0m\n",
            "[ 58%] Built target recovery\n",
            "[ 62%] \u001b[32mBuilding CXX object src/transaction/CMakeFiles/transaction.dir/concurrency/lock_manager.cpp.o\u001b[0m\n",
            "[ 66%] \u001b[32mBuilding CXX object src/transaction/CMakeFiles/transaction.dir/transaction_manager.cpp.o\u001b[0m\n",
            "In file included from \u001b[01m\u001b[K/content/rucbase-lab/src/index/ix_manager.h:16\u001b[m\u001b[K,\n",
            "                 from \u001b[01m\u001b[K/content/rucbase-lab/src/index/ix.h:14\u001b[m\u001b[K,\n",
            "                 from \u001b[01m\u001b[K/content/rucbase-lab/src/system/sm_manager.h:13\u001b[m\u001b[K,\n",
            "                 from \u001b[01m\u001b[K/content/rucbase-lab/src/transaction/transaction_manager.h:19\u001b[m\u001b[K,\n",
            "                 from \u001b[01m\u001b[K/content/rucbase-lab/src/transaction/transaction_manager.cpp:11\u001b[m\u001b[K:\n",
            "\u001b[01m\u001b[K/content/rucbase-lab/src/system/sm_meta.h:\u001b[m\u001b[K In member function ‘\u001b[01m\u001b[Kbool TabMeta::is_index(const std::vector<std::__cxx11::basic_string<char> >&) const\u001b[m\u001b[K’:\n",
            "\u001b[01m\u001b[K/content/rucbase-lab/src/system/sm_meta.h:90:30:\u001b[m\u001b[K \u001b[01;35m\u001b[Kwarning: \u001b[m\u001b[Kcomparison of integer expressions of different signedness: ‘\u001b[01m\u001b[Kconst int\u001b[m\u001b[K’ and ‘\u001b[01m\u001b[Kstd::vector<std::__cxx11::basic_string<char> >::size_type\u001b[m\u001b[K’ {aka ‘\u001b[01m\u001b[Klong unsigned int\u001b[m\u001b[K’} [\u001b[01;35m\u001b[K\u001b]8;;https://gcc.gnu.org/onlinedocs/gcc/Warning-Options.html#index-Wsign-compare\u0007-Wsign-compare\u001b]8;;\u0007\u001b[m\u001b[K]\n",
            "   90 |             if(\u001b[01;35m\u001b[Kindex.col_num == col_names.size()\u001b[m\u001b[K) {\n",
            "      |                \u001b[01;35m\u001b[K~~~~~~~~~~~~~~^~~~~~~~~~~~~~~~~~~\u001b[m\u001b[K\n",
            "\u001b[01m\u001b[K/content/rucbase-lab/src/system/sm_meta.h:92:25:\u001b[m\u001b[K \u001b[01;35m\u001b[Kwarning: \u001b[m\u001b[Kcomparison of integer expressions of different signedness: ‘\u001b[01m\u001b[Ksize_t\u001b[m\u001b[K’ {aka ‘\u001b[01m\u001b[Klong unsigned int\u001b[m\u001b[K’} and ‘\u001b[01m\u001b[Kconst int\u001b[m\u001b[K’ [\u001b[01;35m\u001b[K\u001b]8;;https://gcc.gnu.org/onlinedocs/gcc/Warning-Options.html#index-Wsign-compare\u0007-Wsign-compare\u001b]8;;\u0007\u001b[m\u001b[K]\n",
            "   92 |                 for(; \u001b[01;35m\u001b[Ki < index.col_num\u001b[m\u001b[K; ++i) {\n",
            "      |                       \u001b[01;35m\u001b[K~~^~~~~~~~~~~~~~~\u001b[m\u001b[K\n",
            "\u001b[01m\u001b[K/content/rucbase-lab/src/system/sm_meta.h:96:22:\u001b[m\u001b[K \u001b[01;35m\u001b[Kwarning: \u001b[m\u001b[Kcomparison of integer expressions of different signedness: ‘\u001b[01m\u001b[Ksize_t\u001b[m\u001b[K’ {aka ‘\u001b[01m\u001b[Klong unsigned int\u001b[m\u001b[K’} and ‘\u001b[01m\u001b[Kconst int\u001b[m\u001b[K’ [\u001b[01;35m\u001b[K\u001b]8;;https://gcc.gnu.org/onlinedocs/gcc/Warning-Options.html#index-Wsign-compare\u0007-Wsign-compare\u001b]8;;\u0007\u001b[m\u001b[K]\n",
            "   96 |                 if(\u001b[01;35m\u001b[Ki == index.col_num\u001b[m\u001b[K) return true;\n",
            "      |                    \u001b[01;35m\u001b[K~~^~~~~~~~~~~~~~~~\u001b[m\u001b[K\n",
            "\u001b[01m\u001b[K/content/rucbase-lab/src/system/sm_meta.h:\u001b[m\u001b[K In member function ‘\u001b[01m\u001b[Kstd::vector<IndexMeta>::iterator TabMeta::get_index_meta(const std::vector<std::__cxx11::basic_string<char> >&)\u001b[m\u001b[K’:\n",
            "\u001b[01m\u001b[K/content/rucbase-lab/src/system/sm_meta.h:106:33:\u001b[m\u001b[K \u001b[01;35m\u001b[Kwarning: \u001b[m\u001b[Kcomparison of integer expressions of different signedness: ‘\u001b[01m\u001b[Kint\u001b[m\u001b[K’ and ‘\u001b[01m\u001b[Kstd::vector<std::__cxx11::basic_string<char> >::size_type\u001b[m\u001b[K’ {aka ‘\u001b[01m\u001b[Klong unsigned int\u001b[m\u001b[K’} [\u001b[01;35m\u001b[K\u001b]8;;https://gcc.gnu.org/onlinedocs/gcc/Warning-Options.html#index-Wsign-compare\u0007-Wsign-compare\u001b]8;;\u0007\u001b[m\u001b[K]\n",
            "  106 |             if(\u001b[01;35m\u001b[K(*index).col_num != col_names.size()\u001b[m\u001b[K) continue;\n",
            "      |                \u001b[01;35m\u001b[K~~~~~~~~~~~~~~~~~^~~~~~~~~~~~~~~~~~~\u001b[m\u001b[K\n",
            "[ 70%] \u001b[32m\u001b[1mLinking CXX static library ../../lib/libtransaction.a\u001b[0m\n",
            "[ 70%] Built target transaction\n",
            "[ 75%] \u001b[32mBuilding CXX object src/system/CMakeFiles/system.dir/sm_manager.cpp.o\u001b[0m\n",
            "In file included from \u001b[01m\u001b[K/content/rucbase-lab/src/index/ix_manager.h:16\u001b[m\u001b[K,\n",
            "                 from \u001b[01m\u001b[K/content/rucbase-lab/src/index/ix.h:14\u001b[m\u001b[K,\n",
            "                 from \u001b[01m\u001b[K/content/rucbase-lab/src/system/sm_manager.h:13\u001b[m\u001b[K,\n",
            "                 from \u001b[01m\u001b[K/content/rucbase-lab/src/system/sm_manager.cpp:11\u001b[m\u001b[K:\n",
            "\u001b[01m\u001b[K/content/rucbase-lab/src/system/sm_meta.h:\u001b[m\u001b[K In member function ‘\u001b[01m\u001b[Kbool TabMeta::is_index(const std::vector<std::__cxx11::basic_string<char> >&) const\u001b[m\u001b[K’:\n",
            "\u001b[01m\u001b[K/content/rucbase-lab/src/system/sm_meta.h:90:30:\u001b[m\u001b[K \u001b[01;35m\u001b[Kwarning: \u001b[m\u001b[Kcomparison of integer expressions of different signedness: ‘\u001b[01m\u001b[Kconst int\u001b[m\u001b[K’ and ‘\u001b[01m\u001b[Kstd::vector<std::__cxx11::basic_string<char> >::size_type\u001b[m\u001b[K’ {aka ‘\u001b[01m\u001b[Klong unsigned int\u001b[m\u001b[K’} [\u001b[01;35m\u001b[K\u001b]8;;https://gcc.gnu.org/onlinedocs/gcc/Warning-Options.html#index-Wsign-compare\u0007-Wsign-compare\u001b]8;;\u0007\u001b[m\u001b[K]\n",
            "   90 |             if(\u001b[01;35m\u001b[Kindex.col_num == col_names.size()\u001b[m\u001b[K) {\n",
            "      |                \u001b[01;35m\u001b[K~~~~~~~~~~~~~~^~~~~~~~~~~~~~~~~~~\u001b[m\u001b[K\n",
            "\u001b[01m\u001b[K/content/rucbase-lab/src/system/sm_meta.h:92:25:\u001b[m\u001b[K \u001b[01;35m\u001b[Kwarning: \u001b[m\u001b[Kcomparison of integer expressions of different signedness: ‘\u001b[01m\u001b[Ksize_t\u001b[m\u001b[K’ {aka ‘\u001b[01m\u001b[Klong unsigned int\u001b[m\u001b[K’} and ‘\u001b[01m\u001b[Kconst int\u001b[m\u001b[K’ [\u001b[01;35m\u001b[K\u001b]8;;https://gcc.gnu.org/onlinedocs/gcc/Warning-Options.html#index-Wsign-compare\u0007-Wsign-compare\u001b]8;;\u0007\u001b[m\u001b[K]\n",
            "   92 |                 for(; \u001b[01;35m\u001b[Ki < index.col_num\u001b[m\u001b[K; ++i) {\n",
            "      |                       \u001b[01;35m\u001b[K~~^~~~~~~~~~~~~~~\u001b[m\u001b[K\n",
            "\u001b[01m\u001b[K/content/rucbase-lab/src/system/sm_meta.h:96:22:\u001b[m\u001b[K \u001b[01;35m\u001b[Kwarning: \u001b[m\u001b[Kcomparison of integer expressions of different signedness: ‘\u001b[01m\u001b[Ksize_t\u001b[m\u001b[K’ {aka ‘\u001b[01m\u001b[Klong unsigned int\u001b[m\u001b[K’} and ‘\u001b[01m\u001b[Kconst int\u001b[m\u001b[K’ [\u001b[01;35m\u001b[K\u001b]8;;https://gcc.gnu.org/onlinedocs/gcc/Warning-Options.html#index-Wsign-compare\u0007-Wsign-compare\u001b]8;;\u0007\u001b[m\u001b[K]\n",
            "   96 |                 if(\u001b[01;35m\u001b[Ki == index.col_num\u001b[m\u001b[K) return true;\n",
            "      |                    \u001b[01;35m\u001b[K~~^~~~~~~~~~~~~~~~\u001b[m\u001b[K\n",
            "\u001b[01m\u001b[K/content/rucbase-lab/src/system/sm_meta.h:\u001b[m\u001b[K In member function ‘\u001b[01m\u001b[Kstd::vector<IndexMeta>::iterator TabMeta::get_index_meta(const std::vector<std::__cxx11::basic_string<char> >&)\u001b[m\u001b[K’:\n",
            "\u001b[01m\u001b[K/content/rucbase-lab/src/system/sm_meta.h:106:33:\u001b[m\u001b[K \u001b[01;35m\u001b[Kwarning: \u001b[m\u001b[Kcomparison of integer expressions of different signedness: ‘\u001b[01m\u001b[Kint\u001b[m\u001b[K’ and ‘\u001b[01m\u001b[Kstd::vector<std::__cxx11::basic_string<char> >::size_type\u001b[m\u001b[K’ {aka ‘\u001b[01m\u001b[Klong unsigned int\u001b[m\u001b[K’} [\u001b[01;35m\u001b[K\u001b]8;;https://gcc.gnu.org/onlinedocs/gcc/Warning-Options.html#index-Wsign-compare\u0007-Wsign-compare\u001b]8;;\u0007\u001b[m\u001b[K]\n",
            "  106 |             if(\u001b[01;35m\u001b[K(*index).col_num != col_names.size()\u001b[m\u001b[K) continue;\n",
            "      |                \u001b[01;35m\u001b[K~~~~~~~~~~~~~~~~~^~~~~~~~~~~~~~~~~~~\u001b[m\u001b[K\n",
            "[ 79%] \u001b[32m\u001b[1mLinking CXX static library ../../lib/libsystem.a\u001b[0m\n",
            "[ 79%] Built target system\n",
            "[ 83%] \u001b[32mBuilding CXX object src/record/CMakeFiles/record.dir/rm_file_handle.cpp.o\u001b[0m\n",
            "[ 87%] \u001b[32mBuilding CXX object src/record/CMakeFiles/record.dir/rm_scan.cpp.o\u001b[0m\n",
            "[ 91%] \u001b[32m\u001b[1mLinking CXX static library ../../lib/librecord.a\u001b[0m\n",
            "[ 91%] Built target record\n",
            "[ 95%] \u001b[32mBuilding CXX object src/test/CMakeFiles/record_manager_test.dir/storage/record_manager_test.cpp.o\u001b[0m\n",
            "[100%] \u001b[32m\u001b[1mLinking CXX executable ../../bin/record_manager_test\u001b[0m\n",
            "[100%] Built target record_manager_test\n"
          ]
        }
      ]
    },
    {
      "cell_type": "code",
      "source": [
        "! ./bin/record_manager_test"
      ],
      "metadata": {
        "colab": {
          "base_uri": "https://localhost:8080/"
        },
        "id": "g0-OCMxbJP20",
        "outputId": "c5b44706-f929-40c8-ede8-c6aa6af247a9"
      },
      "execution_count": 23,
      "outputs": [
        {
          "output_type": "stream",
          "name": "stdout",
          "text": [
            "Running main() from /content/rucbase-lab/deps/googletest/googletest/src/gtest_main.cc\n",
            "\u001b[0;32m[==========] \u001b[mRunning 2 tests from 1 test suite.\n",
            "\u001b[0;32m[----------] \u001b[mGlobal test environment set-up.\n",
            "\u001b[0;32m[----------] \u001b[m2 tests from RecordManagerTest\n",
            "\u001b[0;32m[ RUN      ] \u001b[mRecordManagerTest.SimpleTest\n",
            "insert 452\n",
            "delete 270\n",
            "update 278\n",
            "\u001b[0;32m[       OK ] \u001b[mRecordManagerTest.SimpleTest (764 ms)\n",
            "\u001b[0;32m[ RUN      ] \u001b[mRecordManagerTest.MultipleFilesTest\n",
            "\u001b[0;32m[       OK ] \u001b[mRecordManagerTest.MultipleFilesTest (248 ms)\n",
            "\u001b[0;32m[----------] \u001b[m2 tests from RecordManagerTest (1012 ms total)\n",
            "\n",
            "\u001b[0;32m[----------] \u001b[mGlobal test environment tear-down\n",
            "\u001b[0;32m[==========] \u001b[m2 tests from 1 test suite ran. (1012 ms total)\n",
            "\u001b[0;32m[  PASSED  ] \u001b[m2 tests.\n"
          ]
        }
      ]
    }
  ]
}