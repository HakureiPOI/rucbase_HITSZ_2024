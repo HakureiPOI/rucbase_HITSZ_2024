{
  "nbformat": 4,
  "nbformat_minor": 0,
  "metadata": {
    "colab": {
      "provenance": [],
      "authorship_tag": "ABX9TyPachmnC0YOHu7MPZzae2OH",
      "include_colab_link": true
    },
    "kernelspec": {
      "name": "python3",
      "display_name": "Python 3"
    },
    "language_info": {
      "name": "python"
    }
  },
  "cells": [
    {
      "cell_type": "markdown",
      "metadata": {
        "id": "view-in-github",
        "colab_type": "text"
      },
      "source": [
        "<a href=\"https://colab.research.google.com/github/HakureiPOI/rucbase_HITSZ_2024/blob/main/rucbase_Lab.ipynb\" target=\"_parent\"><img src=\"https://colab.research.google.com/assets/colab-badge.svg\" alt=\"Open In Colab\"/></a>"
      ]
    },
    {
      "cell_type": "markdown",
      "source": [
        "# HakureiPOI"
      ],
      "metadata": {
        "id": "uinToqhhbfJH"
      }
    },
    {
      "cell_type": "markdown",
      "source": [
        "---\n",
        "\n",
        "### 从 github 拉取已经配置好的实验环境"
      ],
      "metadata": {
        "id": "ImUmKPN4bZia"
      }
    },
    {
      "cell_type": "code",
      "execution_count": 1,
      "metadata": {
        "colab": {
          "base_uri": "https://localhost:8080/"
        },
        "id": "xmRwtjO5bU5C",
        "outputId": "a328013f-10a7-4113-92bf-e2fb831c807a"
      },
      "outputs": [
        {
          "output_type": "stream",
          "name": "stdout",
          "text": [
            "Cloning into 'rucbase_HITSZ_2024'...\n",
            "remote: Enumerating objects: 1082, done.\u001b[K\n",
            "remote: Counting objects: 100% (1082/1082), done.\u001b[K\n",
            "remote: Compressing objects: 100% (601/601), done.\u001b[K\n",
            "remote: Total 1082 (delta 420), reused 1073 (delta 418), pack-reused 0 (from 0)\u001b[K\n",
            "Receiving objects: 100% (1082/1082), 16.99 MiB | 11.35 MiB/s, done.\n",
            "Resolving deltas: 100% (420/420), done.\n",
            "Updating files: 100% (1009/1009), done.\n"
          ]
        }
      ],
      "source": [
        "!git clone https://github.com/HakureiPOI/rucbase_HITSZ_2024.git"
      ]
    },
    {
      "cell_type": "code",
      "source": [
        "!cp -r /content/rucbase_HITSZ_2024/rucbase-lab /content/rucbase-lab"
      ],
      "metadata": {
        "id": "TRx6Ia3zbqob"
      },
      "execution_count": 2,
      "outputs": []
    },
    {
      "cell_type": "code",
      "source": [
        "%cd /content/rucbase-lab/build"
      ],
      "metadata": {
        "colab": {
          "base_uri": "https://localhost:8080/"
        },
        "id": "_kH0ry0Lbzum",
        "outputId": "95ba78e1-ac66-42f8-b913-f19730821f6a"
      },
      "execution_count": 3,
      "outputs": [
        {
          "output_type": "stream",
          "name": "stdout",
          "text": [
            "/content/rucbase-lab/build\n"
          ]
        }
      ]
    },
    {
      "cell_type": "code",
      "source": [
        "!nohup ./bin/rmdb test_db &"
      ],
      "metadata": {
        "colab": {
          "base_uri": "https://localhost:8080/"
        },
        "id": "b3lS7q0AgrIC",
        "outputId": "552fe42f-b4c1-42c8-eb0c-98adcbe5aedb"
      },
      "execution_count": 4,
      "outputs": [
        {
          "output_type": "stream",
          "name": "stdout",
          "text": [
            "nohup: appending output to 'nohup.out'\n"
          ]
        }
      ]
    },
    {
      "cell_type": "code",
      "source": [
        "!cat /content/rucbase-lab/build/nohup.out"
      ],
      "metadata": {
        "id": "kNOmKLOkgsSr"
      },
      "execution_count": 5,
      "outputs": []
    },
    {
      "cell_type": "code",
      "source": [
        "%cd /content/rucbase-lab/rucbase_client/build"
      ],
      "metadata": {
        "colab": {
          "base_uri": "https://localhost:8080/"
        },
        "id": "ip0ZIG8Pgt3E",
        "outputId": "c137ca64-b180-4b52-fdf9-857b77e35d0c"
      },
      "execution_count": 6,
      "outputs": [
        {
          "output_type": "stream",
          "name": "stdout",
          "text": [
            "/content/rucbase-lab/rucbase_client/build\n"
          ]
        }
      ]
    },
    {
      "cell_type": "code",
      "source": [
        "# ! ./rucbase_client"
      ],
      "metadata": {
        "id": "6xYwy__UgwkH"
      },
      "execution_count": 7,
      "outputs": []
    },
    {
      "cell_type": "code",
      "source": [
        "%cd /content/rucbase-lab/build"
      ],
      "metadata": {
        "colab": {
          "base_uri": "https://localhost:8080/"
        },
        "id": "tPaWDyXpgzRz",
        "outputId": "6995530d-e85a-4319-d82c-7331af42d1ad"
      },
      "execution_count": 8,
      "outputs": [
        {
          "output_type": "stream",
          "name": "stdout",
          "text": [
            "/content/rucbase-lab/build\n"
          ]
        }
      ]
    },
    {
      "cell_type": "code",
      "source": [
        "!ls"
      ],
      "metadata": {
        "colab": {
          "base_uri": "https://localhost:8080/"
        },
        "id": "ny5iT5KBg3Il",
        "outputId": "034c76ff-8464-4b2f-b2a8-1c8e5e433c3f"
      },
      "execution_count": 9,
      "outputs": [
        {
          "output_type": "stream",
          "name": "stdout",
          "text": [
            "bin\t\tCMakeFiles\t     CTestTestfile.cmake  lib\t    nohup.out\n",
            "CMakeCache.txt\tcmake_install.cmake  deps\t\t  Makefile  src\n"
          ]
        }
      ]
    },
    {
      "cell_type": "code",
      "source": [
        "!apt-get update >/dev/null 2>&1\n",
        "!apt-get install -y bison >/dev/null 2>&1\n",
        "!apt-get install flex >/dev/null 2>&1"
      ],
      "metadata": {
        "id": "G3XM_QR9hDpV"
      },
      "execution_count": 10,
      "outputs": []
    },
    {
      "cell_type": "code",
      "source": [
        "!make disk_manager_test"
      ],
      "metadata": {
        "colab": {
          "base_uri": "https://localhost:8080/"
        },
        "id": "C5xTui27g4Hj",
        "outputId": "6d797268-9a4c-429e-92a1-c35db7cc3d2c"
      },
      "execution_count": 11,
      "outputs": [
        {
          "output_type": "stream",
          "name": "stdout",
          "text": [
            "-- Configuring done (0.5s)\n",
            "-- Generating done (0.2s)\n",
            "-- Build files have been written to: /content/rucbase-lab/build\n",
            "[ 10%] \u001b[32mBuilding CXX object deps/googletest/googletest/CMakeFiles/gtest.dir/src/gtest-all.cc.o\u001b[0m\n",
            "[ 20%] \u001b[32m\u001b[1mLinking CXX static library ../../../lib/libgtest.a\u001b[0m\n",
            "[ 20%] Built target gtest\n",
            "[ 30%] \u001b[32mBuilding CXX object deps/googletest/googletest/CMakeFiles/gtest_main.dir/src/gtest_main.cc.o\u001b[0m\n",
            "[ 40%] \u001b[32m\u001b[1mLinking CXX static library ../../../lib/libgtest_main.a\u001b[0m\n",
            "[ 40%] Built target gtest_main\n",
            "[ 50%] \u001b[32mBuilding CXX object src/storage/CMakeFiles/storage.dir/disk_manager.cpp.o\u001b[0m\n",
            "\u001b[01m\u001b[K/content/rucbase-lab/src/storage/disk_manager.cpp:\u001b[m\u001b[K In constructor ‘\u001b[01m\u001b[KDiskManager::DiskManager()\u001b[m\u001b[K’:\n",
            "\u001b[01m\u001b[K/content/rucbase-lab/src/storage/disk_manager.cpp:20:36:\u001b[m\u001b[K \u001b[01;35m\u001b[Kwarning: \u001b[m\u001b[K‘\u001b[01m\u001b[Kvoid* memset(void*, int, size_t)\u001b[m\u001b[K’ clearing an object of type ‘\u001b[01m\u001b[Kstruct std::atomic<int>\u001b[m\u001b[K’ with no trivial copy-assignment; use value-initialization instead [\u001b[01;35m\u001b[K\u001b]8;;https://gcc.gnu.org/onlinedocs/gcc/Warning-Options.html#index-Wclass-memaccess\u0007-Wclass-memaccess\u001b]8;;\u0007\u001b[m\u001b[K]\n",
            "   20 | DiskManager::DiskManager() { \u001b[01;35m\u001b[Kmemset(fd2pageno_, 0, MAX_FD * (sizeof(std::atomic<page_id_t>) / sizeof(char)))\u001b[m\u001b[K; }\n",
            "      |                              \u001b[01;35m\u001b[K~~~~~~^~~~~~~~~~~~~~~~~~~~~~~~~~~~~~~~~~~~~~~~~~~~~~~~~~~~~~~~~~~~~~~~~~~~~~~~~\u001b[m\u001b[K\n",
            "In file included from \u001b[01m\u001b[K/content/rucbase-lab/src/storage/disk_manager.h:17\u001b[m\u001b[K,\n",
            "                 from \u001b[01m\u001b[K/content/rucbase-lab/src/storage/disk_manager.cpp:11\u001b[m\u001b[K:\n",
            "\u001b[01m\u001b[K/usr/include/c++/11/atomic:822:12:\u001b[m\u001b[K \u001b[01;36m\u001b[Knote: \u001b[m\u001b[K‘\u001b[01m\u001b[Kstruct std::atomic<int>\u001b[m\u001b[K’ declared here\n",
            "  822 |     struct \u001b[01;36m\u001b[Katomic<int>\u001b[m\u001b[K : __atomic_base<int>\n",
            "      |            \u001b[01;36m\u001b[K^~~~~~~~~~~\u001b[m\u001b[K\n",
            "\u001b[01m\u001b[K/content/rucbase-lab/src/storage/disk_manager.cpp:\u001b[m\u001b[K In member function ‘\u001b[01m\u001b[Kint DiskManager::open_file(const string&)\u001b[m\u001b[K’:\n",
            "\u001b[01m\u001b[K/content/rucbase-lab/src/storage/disk_manager.cpp:129:1:\u001b[m\u001b[K \u001b[01;35m\u001b[Kwarning: \u001b[m\u001b[Kno return statement in function returning non-void [\u001b[01;35m\u001b[K\u001b]8;;https://gcc.gnu.org/onlinedocs/gcc/Warning-Options.html#index-Wreturn-type\u0007-Wreturn-type\u001b]8;;\u0007\u001b[m\u001b[K]\n",
            "  129 | \u001b[01;35m\u001b[K}\u001b[m\u001b[K\n",
            "      | \u001b[01;35m\u001b[K^\u001b[m\u001b[K\n",
            "[ 60%] \u001b[32mBuilding CXX object src/storage/CMakeFiles/storage.dir/buffer_pool_manager.cpp.o\u001b[0m\n",
            "[ 70%] \u001b[32mBuilding CXX object src/storage/CMakeFiles/storage.dir/__/replacer/lru_replacer.cpp.o\u001b[0m\n",
            "[ 80%] \u001b[32m\u001b[1mLinking CXX static library ../../lib/libstorage.a\u001b[0m\n",
            "[ 80%] Built target storage\n",
            "[ 90%] \u001b[32mBuilding CXX object src/test/CMakeFiles/disk_manager_test.dir/storage/disk_manager_test.cpp.o\u001b[0m\n",
            "[100%] \u001b[32m\u001b[1mLinking CXX executable ../../bin/disk_manager_test\u001b[0m\n",
            "[100%] Built target disk_manager_test\n"
          ]
        }
      ]
    },
    {
      "cell_type": "code",
      "source": [
        "! ./bin/disk_manager_test"
      ],
      "metadata": {
        "colab": {
          "base_uri": "https://localhost:8080/"
        },
        "id": "XkzQHdqMg5MQ",
        "outputId": "448f09b9-3d5d-4bb1-9a5b-3e318095f2c5"
      },
      "execution_count": 12,
      "outputs": [
        {
          "output_type": "stream",
          "name": "stdout",
          "text": [
            "Running main() from /content/rucbase-lab/deps/googletest/googletest/src/gtest_main.cc\n",
            "\u001b[0;32m[==========] \u001b[mRunning 2 tests from 1 test suite.\n",
            "\u001b[0;32m[----------] \u001b[mGlobal test environment set-up.\n",
            "\u001b[0;32m[----------] \u001b[m2 tests from DiskManagerTest\n",
            "\u001b[0;32m[ RUN      ] \u001b[mDiskManagerTest.FileOperation\n",
            "disk_manager_test: /content/rucbase-lab/src/test/storage/disk_manager_test.cpp:74: virtual void DiskManagerTest_FileOperation_Test::TestBody(): Assertion `false' failed.\n"
          ]
        }
      ]
    },
    {
      "cell_type": "code",
      "source": [],
      "metadata": {
        "id": "iazb8KDWhQqZ"
      },
      "execution_count": 12,
      "outputs": []
    }
  ]
}